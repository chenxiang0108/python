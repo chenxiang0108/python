{
 "cells": [
  {
   "cell_type": "code",
   "execution_count": 8,
   "metadata": {
    "scrolled": false
   },
   "outputs": [
    {
     "name": "stdout",
     "output_type": "stream",
     "text": [
      "Populating the interactive namespace from numpy and matplotlib\n",
      "請輸入答案1~100:50\n",
      "猜錯了,猜小一點\n",
      "請輸入答案1~50:70\n",
      "請輸入正確範圍\n",
      "請輸入答案1~50:90\n",
      "請輸入正確範圍\n",
      "請輸入答案1~50:60\n",
      "請輸入正確範圍\n",
      "請輸入答案1~50:80\n",
      "請輸入正確範圍\n",
      "請輸入答案1~50:49\n",
      "猜錯了,猜小一點\n",
      "請輸入答案1~49:48\n",
      "猜錯了,猜小一點\n",
      "請輸入答案1~48:30\n",
      "猜錯了,猜大一點\n",
      "請輸入答案30~48:50\n",
      "請輸入正確範圍\n",
      "請輸入答案30~48:40\n",
      "猜錯了,猜小一點\n",
      "請輸入答案30~40:35\n",
      "猜錯了,猜大一點\n",
      "請輸入答案35~40:38\n",
      "猜錯了,猜小一點\n",
      "請輸入答案35~38:36\n",
      "猜錯了,猜大一點\n",
      "請輸入答案36~38:37\n",
      "恭喜你猜對了\n"
     ]
    }
   ],
   "source": [
    "%pylab inline\n",
    "Mix = 1\n",
    "Max = 100\n",
    "guess = 0\n",
    "answer = int(randint(Mix,Max))\n",
    "int(answer)\n",
    "while guess != answer:\n",
    "    guess = int(input('請輸入答案%s~%s:'%(Mix,Max)))\n",
    "    if guess < answer:\n",
    "        if guess > Mix:\n",
    "            Mix = guess\n",
    "            print('猜錯了,猜大一點')\n",
    "        else:print('請輸入正確範圍')\n",
    "    elif guess > answer:\n",
    "        if guess < Max:\n",
    "            Max = guess\n",
    "            print('猜錯了,猜小一點')\n",
    "        else:print('請輸入正確範圍')   \n",
    "print('恭喜你猜對了')"
   ]
  },
  {
   "cell_type": "code",
   "execution_count": null,
   "metadata": {},
   "outputs": [],
   "source": []
  }
 ],
 "metadata": {
  "kernelspec": {
   "display_name": "Python 3",
   "language": "python",
   "name": "python3"
  },
  "language_info": {
   "codemirror_mode": {
    "name": "ipython",
    "version": 3
   },
   "file_extension": ".py",
   "mimetype": "text/x-python",
   "name": "python",
   "nbconvert_exporter": "python",
   "pygments_lexer": "ipython3",
   "version": "3.7.3"
  }
 },
 "nbformat": 4,
 "nbformat_minor": 2
}
