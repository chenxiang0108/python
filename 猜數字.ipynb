{
 "cells": [
  {
   "cell_type": "code",
   "execution_count": null,
   "metadata": {
    "scrolled": false
   },
   "outputs": [
    {
     "name": "stdout",
     "output_type": "stream",
     "text": [
      "Populating the interactive namespace from numpy and matplotlib\n"
     ]
    }
   ],
   "source": [
    "%pylab inline\n",
    "Mix = 1\n",
    "Max = 100\n",
    "guess = 0\n",
    "answer = int(randint(Mix,Max))\n",
    "int(answer)\n",
    "while guess != answer:\n",
    "    guess = int(input('請輸入答案%s~%s:'%(Mix,Max)))\n",
    "    if guess < answer:\n",
    "        if guess > Mix:\n",
    "            Mix = guess\n",
    "            print('猜錯了,猜大一點')\n",
    "        else:print('請輸入正確範圍')\n",
    "    elif guess > answer:\n",
    "        if guess < Max:\n",
    "            Max = guess\n",
    "            print('猜錯了,猜小一點')\n",
    "        else:print('請輸入正確範圍')   \n",
    "print('恭喜你猜對了')"
   ]
  },
  {
   "cell_type": "code",
   "execution_count": null,
   "metadata": {},
   "outputs": [],
   "source": []
  }
 ],
 "metadata": {
  "kernelspec": {
   "display_name": "Python 3",
   "language": "python",
   "name": "python3"
  },
  "language_info": {
   "codemirror_mode": {
    "name": "ipython",
    "version": 3
   },
   "file_extension": ".py",
   "mimetype": "text/x-python",
   "name": "python",
   "nbconvert_exporter": "python",
   "pygments_lexer": "ipython3",
   "version": "3.7.3"
  }
 },
 "nbformat": 4,
 "nbformat_minor": 2
}
